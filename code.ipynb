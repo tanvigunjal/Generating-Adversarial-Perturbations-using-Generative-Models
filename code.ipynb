# Import libraries
import numpy as np
import pandas as pd
import matplotlib.pyplot as plt
import torchvision
from datetime import datetime as dt

import torch
from torch import optim, nn
from torch.utils.data import DataLoader, TensorDataset, Dataset
from torchvision.utils import make_grid
from torchvision import transforms as T
from torchvision import models, datasets
#from generator.generator import ResnetGenerator, weights_init
import torch.backends.cudnn as cudnn


#import opendatasets as od
import os
from random import randint
import urllib
import zipfile

